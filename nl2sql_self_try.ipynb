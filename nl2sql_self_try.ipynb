{
 "cells": [
  {
   "cell_type": "code",
   "metadata": {
    "ExecuteTime": {
     "end_time": "2025-09-02T08:08:44.129401Z",
     "start_time": "2025-09-02T08:08:44.119805Z"
    }
   },
   "source": [
    "from gtts import gTTS\n",
    "import io\n",
    "import pygame\n",
    "from langgraph.graph import StateGraph, START, END\n",
    "from typing import TypedDict\n",
    "from dotenv import load_dotenv\n",
    "from langchain_groq import ChatGroq\n",
    "from pydantic import BaseModel\n",
    "import pandas as pd\n",
    "from langchain_core.messages import SystemMessage, HumanMessage\n",
    "from google.cloud import bigquery\n",
    "from langchain_google_genai import ChatGoogleGenerativeAI\n",
    "import os\n",
    "from google.cloud import texttospeech\n",
    "from google.oauth2 import service_account\n",
    "import pygame\n",
    "import time\n",
    "\n",
    "# Authenticate with your service account\n",
    "credentials = service_account.Credentials.from_service_account_file(\n",
    "    r'C:\\Users\\Shubham\\PycharmProjects\\PythonProject\\shubham-patil-gcp-vertexai json.json'\n",
    ")"
   ],
   "outputs": [],
   "execution_count": 94
  },
  {
   "cell_type": "code",
   "metadata": {
    "ExecuteTime": {
     "end_time": "2025-09-02T08:08:44.164591Z",
     "start_time": "2025-09-02T08:08:44.156667Z"
    }
   },
   "source": "# load_dotenv()",
   "outputs": [],
   "execution_count": 95
  },
  {
   "metadata": {
    "ExecuteTime": {
     "end_time": "2025-09-02T08:08:44.181435Z",
     "start_time": "2025-09-02T08:08:44.170419Z"
    }
   },
   "cell_type": "code",
   "source": [
    "from google.oauth2 import service_account\n",
    "from google.cloud import aiplatform\n",
    "\n",
    "import os\n",
    "\n",
    "os.environ[\"GOOGLE_APPLICATION_CREDENTIALS\"] = r'C:\\Users\\Shubham\\PycharmProjects\\PythonProject\\shubham-patil-gcp-vertexai json.json'\n",
    "\n",
    "\n",
    "aiplatform.init(\n",
    "    project=\"your-project-id\",\n",
    "    location=\"us-central1\",\n",
    "    credentials=credentials\n",
    ")\n"
   ],
   "outputs": [],
   "execution_count": 96
  },
  {
   "cell_type": "code",
   "metadata": {
    "ExecuteTime": {
     "end_time": "2025-09-02T08:08:44.209678Z",
     "start_time": "2025-09-02T08:08:44.187392Z"
    }
   },
   "source": [
    "from google.cloud import bigquery\n",
    "from google.oauth2 import service_account\n",
    "\n",
    "credentials = service_account.Credentials.from_service_account_file(\n",
    "   r'C:\\Users\\Shubham\\PycharmProjects\\PythonProject\\shubham-patil-gcp-vertexai json.json'\n",
    ")\n",
    "\n",
    "# Create client with credentials\n",
    "client = bigquery.Client(credentials=credentials, project=credentials.project_id)\n"
   ],
   "outputs": [],
   "execution_count": 97
  },
  {
   "cell_type": "code",
   "metadata": {
    "ExecuteTime": {
     "end_time": "2025-09-02T08:08:44.228527Z",
     "start_time": "2025-09-02T08:08:44.220762Z"
    }
   },
   "source": [
    "# Define state:\n",
    "\n",
    "class QueryState(TypedDict):\n",
    "    que : str\n",
    "    query : str\n",
    "    result : pd.DataFrame\n",
    "    answer : str"
   ],
   "outputs": [],
   "execution_count": 98
  },
  {
   "cell_type": "code",
   "metadata": {
    "ExecuteTime": {
     "end_time": "2025-09-02T08:08:44.253004Z",
     "start_time": "2025-09-02T08:08:44.236816Z"
    }
   },
   "source": [
    "class llm_struct(BaseModel):\n",
    "    query : str\n",
    "\n",
    "\n",
    "# llm = ChatGroq(model=\"meta-llama/llama-4-maverick-17b-128e-instruct\")\n",
    "\n",
    "llm = ChatGoogleGenerativeAI(model=\"gemini-1.5-pro\")\n",
    "llm_struct_out = llm.with_structured_output(llm_struct)\n"
   ],
   "outputs": [],
   "execution_count": 99
  },
  {
   "cell_type": "code",
   "metadata": {
    "ExecuteTime": {
     "end_time": "2025-09-02T08:08:44.263698Z",
     "start_time": "2025-09-02T08:08:44.259748Z"
    }
   },
   "source": [
    "# def query_generator():\n",
    "#     que = 'Write a query to fetch top 3 salaried emplyoyees'\n",
    "#     messages = [\n",
    "#     SystemMessage(content=(\n",
    "#         \"You are an expert BigQuery SQL generator. \"\n",
    "#         \"Convert the user’s natural language question into a valid BigQuery Standard SQL statement. \"\n",
    "#         \"Return ONLY the SQL query inside the field 'query'.\"\n",
    "#     )),\n",
    "#     HumanMessage(content=que)\n",
    "#     ]\n",
    "#     query = llm_struct_out.invoke(messages).query\n",
    "#     return print(query)\n",
    "#\n",
    "# query_generator()"
   ],
   "outputs": [],
   "execution_count": 100
  },
  {
   "cell_type": "code",
   "metadata": {
    "ExecuteTime": {
     "end_time": "2025-09-02T08:08:44.282930Z",
     "start_time": "2025-09-02T08:08:44.269715Z"
    }
   },
   "source": [
    "# Define Nodes\n",
    "\n",
    "def query_generator(que):\n",
    "    schema_description = '''\n",
    "    Table 1: customers\n",
    "    Schema: customer_id STRING,\n",
    "            first_name STRING,\n",
    "            last_name STRING,\n",
    "            email STRING,\n",
    "            phone STRING,\n",
    "            signup_date DATE,\n",
    "            country STRING,\n",
    "            is_active BOOLEAN\n",
    "\n",
    "    Table 2: products\n",
    "    Schema: product_id STRING,\n",
    "            name STRING,\n",
    "            description STRING,\n",
    "            category STRING,\n",
    "            price NUMERIC,\n",
    "            stock_quantity INT64,\n",
    "            supplier STRING,\n",
    "            is_available BOOLEAN\n",
    "\n",
    "    Table 3: orders\n",
    "    Schema: order_id STRING,\n",
    "            customer_id STRING,\n",
    "            order_date DATE,\n",
    "            shipping_address STRING,\n",
    "            billing_address STRING,\n",
    "            total_amount NUMERIC,\n",
    "            status STRING,\n",
    "            payment_method STRING\n",
    "\n",
    "    Table 4: order_items\n",
    "    Schema: order_item_id STRING,\n",
    "            order_id STRING,\n",
    "            product_id STRING,\n",
    "            quantity INT64,\n",
    "            unit_price NUMERIC,\n",
    "            discount NUMERIC,\n",
    "            tax NUMERIC,\n",
    "            total_price NUMERIC\n",
    "    '''\n",
    "\n",
    "    messages = [\n",
    "        SystemMessage(content=(\n",
    "            \"You are an expert BigQuery SQL generator. \"\n",
    "            \"Convert the user’s natural language question into a valid BigQuery Standard SQL statement. \"\n",
    "            \"Return ONLY the SQL query inside the field 'query'.\"\n",
    "        )),\n",
    "        HumanMessage(content=f\"I have dataset `demo_1` with the following schema: {schema_description}\\n\\nNow, generate a query for: {que}\")\n",
    "    ]\n",
    "    \n",
    "    query = llm_struct_out.invoke(messages).query\n",
    "    return {'query': query}\n",
    "\n",
    "\n",
    "def query_runner(state:QueryState):\n",
    "    query = state['query']\n",
    "    #client = bigquery.Client(project=\"shubham-patil-gcp\")\n",
    "    query_job = client.query(query)\n",
    "    df = query_job.result().to_dataframe()\n",
    "    return {'result' : df}\n",
    "\n",
    "\n",
    "def query_explainer(state:QueryState):\n",
    "    result = state['result']\n",
    "    que = state['que']\n",
    "\n",
    "    # prompt = f'''explain given requirment {que} and fetched data from database{result}.\\n\n",
    "    #              do not explain structure of tables\n",
    "    #              give short answer of requirement on the basis of fetched data\n",
    "    #              if dataframe is empty then simple said there is no record for given requirement.\n",
    "    #              strictly keep explaination withn 300 words'''\n",
    "\n",
    "    prompt = prompt_template = f\"\"\"\n",
    "                            You are a data analyst. \n",
    "                            I will give you:\n",
    "                            1. The user’s original question.\n",
    "                            2. The query result as a dataframe.\n",
    "\n",
    "                            Your job:\n",
    "                            - Provide a clear, human-friendly explanation of what the result means.\n",
    "                            - Use simple and concise language (as if explaining to a business user).\n",
    "                            - Highlight key insights, trends, or anomalies if present.\n",
    "                            - If the dataframe is empty, politely explain that no records matched the query.\n",
    "                            - Used EXTRACT(YEAR FROM date) for yearly comparison.\n",
    "                            - If you need monthly comparison, use FORMAT_DATE('%Y-%m', date) instead.\n",
    "\n",
    "                            Here is the information:\n",
    "\n",
    "                            User Question:\n",
    "                            {que}\n",
    "\n",
    "\n",
    "                            Query Result (DataFrame):\n",
    "                            {result}\n",
    "\n",
    "                            Now explain the result in a human way.\"\"\"\n",
    "\n",
    "\n",
    "\n",
    "\n",
    "    ans = llm.invoke(prompt)\n",
    "    return {'answer': ans}"
   ],
   "outputs": [],
   "execution_count": 101
  },
  {
   "cell_type": "code",
   "metadata": {
    "ExecuteTime": {
     "end_time": "2025-09-02T08:08:44.300076Z",
     "start_time": "2025-09-02T08:08:44.288653Z"
    }
   },
   "source": [
    "prompt_template = \"\"\"\n",
    "You are a data analyst. \n",
    "I will give you:\n",
    "1. The user’s original question.\n",
    "2. The query result as a dataframe.\n",
    "\n",
    "Your job:\n",
    "- Provide a clear, human-friendly explanation of what the result means.\n",
    "- Use simple and concise language (as if explaining to a business user).\n",
    "- Highlight key insights, trends, or anomalies if present.\n",
    "- If the dataframe is empty, politely explain that no records matched the query.\n",
    "- Used EXTRACT(YEAR FROM date) for yearly comparison.\n",
    "- If you need monthly comparison, use FORMAT_DATE('%Y-%m', date) instead.\n",
    "\n",
    "Here is the information:\n",
    "\n",
    "User Question:\n",
    "{que}\n",
    "\n",
    "\n",
    "Query Result (DataFrame):\n",
    "{result}\n",
    "\n",
    "Now explain the result in a human way.\n",
    "\"\"\"\n"
   ],
   "outputs": [],
   "execution_count": 102
  },
  {
   "cell_type": "code",
   "metadata": {
    "ExecuteTime": {
     "end_time": "2025-09-02T08:08:44.319870Z",
     "start_time": "2025-09-02T08:08:44.306905Z"
    }
   },
   "source": [
    "#Define Graph\n",
    "\n",
    "graph = StateGraph(QueryState)\n",
    "\n",
    "# Add Node\n",
    "\n",
    "graph.add_node('query_generator',query_generator)\n",
    "graph.add_node('query_runner', query_runner)\n",
    "graph.add_node('query_explainer',query_explainer)\n",
    "\n",
    "# Add Edges\n",
    "graph.add_edge(START,'query_generator')\n",
    "graph.add_edge('query_generator','query_runner')\n",
    "graph.add_edge('query_runner','query_explainer')\n",
    "graph.add_edge('query_explainer',END)\n",
    "# graph.add_edge('query_runner',END)\n",
    "\n",
    "# Compile Graph\n",
    "app = graph.compile()"
   ],
   "outputs": [],
   "execution_count": 103
  },
  {
   "cell_type": "code",
   "metadata": {
    "ExecuteTime": {
     "end_time": "2025-09-02T08:08:44.337745Z",
     "start_time": "2025-09-02T08:08:44.326787Z"
    }
   },
   "source": "# app",
   "outputs": [],
   "execution_count": 104
  },
  {
   "cell_type": "code",
   "metadata": {
    "ExecuteTime": {
     "end_time": "2025-09-02T08:08:52.186626Z",
     "start_time": "2025-09-02T08:08:44.345725Z"
    }
   },
   "source": [
    "initial_state = {'que' : 'Find customers whose total order value is in the top 10% percentile of all customers.'}\n",
    "\n",
    "\n",
    "ans = app.invoke(initial_state)\n",
    "\n",
    "# print(ans['query'].content)"
   ],
   "outputs": [
    {
     "name": "stderr",
     "output_type": "stream",
     "text": [
      "C:\\Users\\Shubham\\PycharmProjects\\PythonProject\\.venv\\lib\\site-packages\\google\\cloud\\bigquery\\table.py:1994: UserWarning: BigQuery Storage module not found, fetch data with the REST endpoint instead.\n",
      "  warnings.warn(\n"
     ]
    }
   ],
   "execution_count": 105
  },
  {
   "cell_type": "code",
   "metadata": {
    "ExecuteTime": {
     "end_time": "2025-09-02T08:08:52.225677Z",
     "start_time": "2025-09-02T08:08:52.218098Z"
    }
   },
   "source": [
    "print(ans['query'])#.content)\n",
    "\n",
    "# print(ans['answer'].content)\n",
    "\n",
    "# ans['result']"
   ],
   "outputs": [
    {
     "name": "stdout",
     "output_type": "stream",
     "text": [
      "SELECT customer_id FROM ( SELECT customer_id, SUM(total_amount) AS total_order_value, PERCENT_RANK() OVER (ORDER BY SUM(total_amount) DESC) AS percentile FROM `demo_1.orders` GROUP BY customer_id ) WHERE percentile <= 0.1\n"
     ]
    }
   ],
   "execution_count": 106
  },
  {
   "cell_type": "code",
   "metadata": {
    "ExecuteTime": {
     "end_time": "2025-09-02T08:08:52.250614Z",
     "start_time": "2025-09-02T08:08:52.245794Z"
    }
   },
   "source": "# ans['query']",
   "outputs": [],
   "execution_count": 107
  },
  {
   "cell_type": "code",
   "metadata": {
    "ExecuteTime": {
     "end_time": "2025-09-02T08:08:52.301552Z",
     "start_time": "2025-09-02T08:08:52.290546Z"
    }
   },
   "source": [
    "ans['result']"
   ],
   "outputs": [
    {
     "data": {
      "text/plain": [
       "   customer_id\n",
       "0      CUST009\n",
       "1      CUST017\n",
       "2      CUST099\n",
       "3      CUST033\n",
       "4      CUST090\n",
       "5      CUST077\n",
       "6      CUST043\n",
       "7      CUST014\n",
       "8      CUST035\n",
       "9      CUST142\n",
       "10     CUST085\n",
       "11     CUST060\n",
       "12     CUST055\n",
       "13     CUST030\n",
       "14     CUST131"
      ],
      "text/html": [
       "<div>\n",
       "<style scoped>\n",
       "    .dataframe tbody tr th:only-of-type {\n",
       "        vertical-align: middle;\n",
       "    }\n",
       "\n",
       "    .dataframe tbody tr th {\n",
       "        vertical-align: top;\n",
       "    }\n",
       "\n",
       "    .dataframe thead th {\n",
       "        text-align: right;\n",
       "    }\n",
       "</style>\n",
       "<table border=\"1\" class=\"dataframe\">\n",
       "  <thead>\n",
       "    <tr style=\"text-align: right;\">\n",
       "      <th></th>\n",
       "      <th>customer_id</th>\n",
       "    </tr>\n",
       "  </thead>\n",
       "  <tbody>\n",
       "    <tr>\n",
       "      <th>0</th>\n",
       "      <td>CUST009</td>\n",
       "    </tr>\n",
       "    <tr>\n",
       "      <th>1</th>\n",
       "      <td>CUST017</td>\n",
       "    </tr>\n",
       "    <tr>\n",
       "      <th>2</th>\n",
       "      <td>CUST099</td>\n",
       "    </tr>\n",
       "    <tr>\n",
       "      <th>3</th>\n",
       "      <td>CUST033</td>\n",
       "    </tr>\n",
       "    <tr>\n",
       "      <th>4</th>\n",
       "      <td>CUST090</td>\n",
       "    </tr>\n",
       "    <tr>\n",
       "      <th>5</th>\n",
       "      <td>CUST077</td>\n",
       "    </tr>\n",
       "    <tr>\n",
       "      <th>6</th>\n",
       "      <td>CUST043</td>\n",
       "    </tr>\n",
       "    <tr>\n",
       "      <th>7</th>\n",
       "      <td>CUST014</td>\n",
       "    </tr>\n",
       "    <tr>\n",
       "      <th>8</th>\n",
       "      <td>CUST035</td>\n",
       "    </tr>\n",
       "    <tr>\n",
       "      <th>9</th>\n",
       "      <td>CUST142</td>\n",
       "    </tr>\n",
       "    <tr>\n",
       "      <th>10</th>\n",
       "      <td>CUST085</td>\n",
       "    </tr>\n",
       "    <tr>\n",
       "      <th>11</th>\n",
       "      <td>CUST060</td>\n",
       "    </tr>\n",
       "    <tr>\n",
       "      <th>12</th>\n",
       "      <td>CUST055</td>\n",
       "    </tr>\n",
       "    <tr>\n",
       "      <th>13</th>\n",
       "      <td>CUST030</td>\n",
       "    </tr>\n",
       "    <tr>\n",
       "      <th>14</th>\n",
       "      <td>CUST131</td>\n",
       "    </tr>\n",
       "  </tbody>\n",
       "</table>\n",
       "</div>"
      ]
     },
     "execution_count": 108,
     "metadata": {},
     "output_type": "execute_result"
    }
   ],
   "execution_count": 108
  },
  {
   "metadata": {
    "ExecuteTime": {
     "end_time": "2025-09-02T08:08:52.320820Z",
     "start_time": "2025-09-02T08:08:52.315831Z"
    }
   },
   "cell_type": "code",
   "source": [
    "# from gtts import gTTS\n",
    "# import os\n",
    "#\n",
    "# # Suppose this is your query result\n",
    "# result = ans['answer'].content\n",
    "#\n",
    "# # Convert text to speech\n",
    "# tts = gTTS(text=result, lang='en')\n",
    "#\n",
    "# # Save to an mp3 file\n",
    "# tts.save(\"output.mp3\")\n",
    "#\n",
    "# # Play the audio (works on Windows)\n",
    "# os.system(\"start output.mp3\")\n"
   ],
   "outputs": [],
   "execution_count": 109
  },
  {
   "metadata": {
    "ExecuteTime": {
     "end_time": "2025-09-02T08:08:52.344746Z",
     "start_time": "2025-09-02T08:08:52.341749Z"
    }
   },
   "cell_type": "code",
   "source": [
    "\n",
    "\n",
    "# Your query result\n",
    "# result = ans['answer'].content\n",
    "\n",
    "# # Convert text to speech into memory (not saving to file)\n",
    "# tts = gTTS(text=result, lang='en')\n",
    "# fp = io.BytesIO()\n",
    "# tts.write_to_fp(fp)\n",
    "# fp.seek(0)\n",
    "#\n",
    "# # Initialize pygame mixer\n",
    "# pygame.mixer.init()\n",
    "# pygame.mixer.music.load(fp, 'mp3')\n",
    "# pygame.mixer.music.play()\n",
    "#\n",
    "# # Keep program alive until playback is done\n",
    "# while pygame.mixer.music.get_busy():\n",
    "#     pygame.time.Clock().tick(10)\n",
    "#\n",
    "# # Free memory\n",
    "# fp.close()\n",
    "# del tts\n"
   ],
   "outputs": [],
   "execution_count": 110
  },
  {
   "metadata": {
    "ExecuteTime": {
     "end_time": "2025-09-02T08:09:13.858349Z",
     "start_time": "2025-09-02T08:08:52.354712Z"
    }
   },
   "cell_type": "code",
   "source": [
    "\n",
    "client = texttospeech.TextToSpeechClient(credentials=credentials)\n",
    "\n",
    "result = ans['answer'].content\n",
    "\n",
    "# Set the text input to be synthesized\n",
    "synthesis_input = texttospeech.SynthesisInput(text=result)\n",
    "\n",
    "# Configure voice\n",
    "voice = texttospeech.VoiceSelectionParams(\n",
    "    language_code=\"en-US\",\n",
    "    ssml_gender=texttospeech.SsmlVoiceGender.FEMALE\n",
    ")\n",
    "\n",
    "# Configure audio\n",
    "audio_config = texttospeech.AudioConfig(\n",
    "    audio_encoding=texttospeech.AudioEncoding.MP3\n",
    ")\n",
    "\n",
    "# Synthesize speech\n",
    "response = client.synthesize_speech(\n",
    "    input=synthesis_input,\n",
    "    voice=voice,\n",
    "    audio_config=audio_config\n",
    ")\n",
    "\n",
    "# Save audio to file\n",
    "file_path = \"output.mp3\"\n",
    "with open(file_path, \"wb\") as out:\n",
    "    out.write(response.audio_content)\n",
    "    print(f'Audio content written to file \"{file_path}\"')\n",
    "\n",
    "# Play audio using pygame\n",
    "pygame.mixer.init()\n",
    "pygame.mixer.music.load(file_path)\n",
    "pygame.mixer.music.play()\n",
    "\n",
    "# Wait until audio finishes playing\n",
    "while pygame.mixer.music.get_busy():\n",
    "    time.sleep(0.5)\n",
    "\n",
    "# Delete the file after playing\n",
    "pygame.mixer.music.unload()\n",
    "os.remove(file_path)\n",
    "print(f'File \"{file_path}\" deleted after playing')\n"
   ],
   "outputs": [
    {
     "name": "stdout",
     "output_type": "stream",
     "text": [
      "Audio content written to file \"output.mp3\"\n",
      "File \"output.mp3\" deleted after playing\n"
     ]
    }
   ],
   "execution_count": 111
  },
  {
   "metadata": {
    "ExecuteTime": {
     "end_time": "2025-09-02T08:09:13.881555Z",
     "start_time": "2025-09-02T08:09:13.876613Z"
    }
   },
   "cell_type": "code",
   "source": "",
   "outputs": [],
   "execution_count": null
  }
 ],
 "metadata": {
  "kernelspec": {
   "display_name": "langgraph",
   "language": "python",
   "name": "python3"
  },
  "language_info": {
   "codemirror_mode": {
    "name": "ipython",
    "version": 3
   },
   "file_extension": ".py",
   "mimetype": "text/x-python",
   "name": "python",
   "nbconvert_exporter": "python",
   "pygments_lexer": "ipython3",
   "version": "3.10.18"
  }
 },
 "nbformat": 4,
 "nbformat_minor": 2
}
